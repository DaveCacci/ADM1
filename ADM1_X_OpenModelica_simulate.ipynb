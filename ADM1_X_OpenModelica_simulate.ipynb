{
 "cells": [
  {
   "cell_type": "code",
   "execution_count": 1,
   "metadata": {},
   "outputs": [],
   "source": [
    "from pyfmi import load_fmu\n",
    "import pylab as P\n",
    "import math"
   ]
  },
  {
   "cell_type": "code",
   "execution_count": 2,
   "metadata": {},
   "outputs": [],
   "source": [
    "fmu_path = 'C:/Users/lenovo/AppData/Local/Temp/OpenModelica/OMEdit/ADM1_P.SAntonio/ADM1_P.SAntonio.fmu'"
   ]
  },
  {
   "cell_type": "code",
   "execution_count": 3,
   "metadata": {},
   "outputs": [],
   "source": [
    "model = load_fmu(fmu_path)"
   ]
  },
  {
   "cell_type": "code",
   "execution_count": 4,
   "metadata": {},
   "outputs": [],
   "source": [
    "#specify how many result points we want to receive after a simulation.\n",
    "opts = model.simulate_options()\n",
    "opts[\"ncp\"] = 10000 #Specify that 1000 output points should be returned"
   ]
  },
  {
   "cell_type": "code",
   "execution_count": 14,
   "metadata": {},
   "outputs": [],
   "source": [
    "#input generation\n",
    "def input_func(t):\n",
    " return +100.0*math.sin(t/100000)"
   ]
  },
  {
   "cell_type": "code",
   "execution_count": null,
   "metadata": {
    "scrolled": true
   },
   "outputs": [],
   "source": [
    "#res = model.simulate( input=(\"h2_in\",input_func)) #h2_in deve essere real Input nel modello\n",
    "res = model.simulate(options = opts, final_time=10) #h2_in deve essere real Input nel modello"
   ]
  },
  {
   "cell_type": "code",
   "execution_count": 15,
   "metadata": {},
   "outputs": [
    {
     "data": {
      "image/png": "[encoded data removed]",
      "text/plain": [
       "<matplotlib.figure.Figure at 0x1d217470>"
      ]
     },
     "metadata": {},
     "output_type": "display_data"
    }
   ],
   "source": [
    "P.plot(res[\"time\"],res[\"digester.pH\"])\n",
    "P.legend(\"pH\")\n",
    "P.show()\n"
   ]
  },
  {
   "cell_type": "code",
   "execution_count": null,
   "metadata": {},
   "outputs": [],
   "source": []
  }
 ],
 "metadata": {
  "kernelspec": {
   "display_name": "OCT",
   "language": "python",
   "name": "oct"
  },
  "language_info": {
   "codemirror_mode": {
    "name": "ipython",
    "version": 3
   },
   "file_extension": ".py",
   "mimetype": "text/x-python",
   "name": "python",
   "nbconvert_exporter": "python",
   "pygments_lexer": "ipython3",
   "version": "3.7.13"
  }
 },
 "nbformat": 4,
 "nbformat_minor": 4
}
